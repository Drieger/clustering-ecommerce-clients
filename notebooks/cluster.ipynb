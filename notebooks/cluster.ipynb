{
 "cells": [
  {
   "cell_type": "markdown",
   "metadata": {},
   "source": [
    "# Clustering e-commerce's clients"
   ]
  },
  {
   "cell_type": "markdown",
   "metadata": {},
   "source": [
    "## Business understanding"
   ]
  },
  {
   "cell_type": "markdown",
   "metadata": {},
   "source": [
    "You have been hired by an e-commerce company that is looking to better understand its customers' behavior in order to personalize its marketing campaigns. To achieve this, the company has provided a CSV database containing data on customers, products, and store transactions carried out between 2010 and 2011.\n",
    "\n",
    "Based on this data, you need to group customers into clusters according to their purchasing behavior. This will help identify patterns and common characteristics among customers, such as:\n",
    "\n",
    "- Customers who buy the same products;\n",
    "\n",
    "- Customers with the same purchase frequency;\n",
    "\n",
    "- Customers who spend more money on their purchases.\n",
    "\n",
    "Using these clusters, generate insights that will allow the company to better segment its customer base and personalize its marketing campaigns, directing promotions and offers to customers based on their purchasing behavior."
   ]
  },
  {
   "cell_type": "markdown",
   "metadata": {},
   "source": [
    "## Data understanding"
   ]
  },
  {
   "cell_type": "markdown",
   "metadata": {},
   "source": [
    "This is a transnational data set which contains all the transactions occurring between 01/12/2010 and 09/12/2011 for a UK-based and registered non-store online retail.The company mainly sells unique all-occasion gifts. Many customers of the company are wholesalers (https://www.kaggle.com/datasets/carrie1/ecommerce-data).\n",
    "\n",
    "The table below\tprovides a detailed description of each column.\n",
    "<table style='border: 1px solid; margin-left: 0'>\n",
    "    <thead>\n",
    "        <tr>\n",
    "            <th>Column</th>\n",
    "            <th>Description</th>\n",
    "            <th>Data Type</th>\n",
    "        </tr>\n",
    "    </thead>\n",
    "    <tbody>\n",
    "        <tr>\n",
    "            <td><strong>InvoiceNo</strong></td>\n",
    "            <td>Transaction ID</td>\n",
    "            <td>Int</td>\n",
    "        </tr>\n",
    "        <tr>\n",
    "            <td><strong>StockCode</strong></td>\n",
    "            <td>Product stock code</td>\n",
    "            <td>String</td>\n",
    "        </tr>\n",
    "        <tr>\n",
    "            <td><strong>Description</strong></td>\n",
    "            <td>Product description</td>\n",
    "            <td>String</td>\n",
    "        </tr>\n",
    "        <tr>\n",
    "            <td><strong>Quantity</strong></td>\n",
    "            <td>Number of products per transaction</td>\n",
    "            <td>Int</td>\n",
    "        </tr>\n",
    "        <tr>\n",
    "            <td><strong>InvoiceDate</strong></td>\n",
    "            <td>Transaction date</td>\n",
    "            <td>Datetime</td>\n",
    "        </tr>\n",
    "        <tr>\n",
    "            <td><strong>UnitPrice</strong></td>\n",
    "            <td>Unit price of the product</td>\n",
    "            <td>Float</td>\n",
    "        </tr>\n",
    "        <tr>\n",
    "            <td><strong>CustomerID</strong></td>\n",
    "            <td>Customer ID</td>\n",
    "            <td>Int</td>\n",
    "        </tr>\n",
    "        <tr>\n",
    "            <td><strong>Country</strong></td>\n",
    "            <td>Country of transaction origin</td>\n",
    "            <td>String</td>\n",
    "        </tr>\n",
    "    </tbody>\n",
    "</table>"
   ]
  },
  {
   "cell_type": "markdown",
   "metadata": {},
   "source": [
    "#### Setup"
   ]
  },
  {
   "cell_type": "code",
   "execution_count": 57,
   "metadata": {},
   "outputs": [],
   "source": [
    "import pandas as pd\n",
    "import matplotlib.pyplot as plt"
   ]
  },
  {
   "cell_type": "markdown",
   "metadata": {},
   "source": [
    "#### Descriptive analysis"
   ]
  },
  {
   "cell_type": "code",
   "execution_count": 65,
   "metadata": {},
   "outputs": [
    {
     "data": {
      "text/html": [
       "<div>\n",
       "<style scoped>\n",
       "    .dataframe tbody tr th:only-of-type {\n",
       "        vertical-align: middle;\n",
       "    }\n",
       "\n",
       "    .dataframe tbody tr th {\n",
       "        vertical-align: top;\n",
       "    }\n",
       "\n",
       "    .dataframe thead th {\n",
       "        text-align: right;\n",
       "    }\n",
       "</style>\n",
       "<table border=\"1\" class=\"dataframe\">\n",
       "  <thead>\n",
       "    <tr style=\"text-align: right;\">\n",
       "      <th></th>\n",
       "      <th>InvoiceNo</th>\n",
       "      <th>StockCode</th>\n",
       "      <th>Description</th>\n",
       "      <th>Quantity</th>\n",
       "      <th>InvoiceDate</th>\n",
       "      <th>UnitPrice</th>\n",
       "      <th>CustomerID</th>\n",
       "      <th>Country</th>\n",
       "    </tr>\n",
       "  </thead>\n",
       "  <tbody>\n",
       "    <tr>\n",
       "      <th>541904</th>\n",
       "      <td>581587</td>\n",
       "      <td>22613</td>\n",
       "      <td>PACK OF 20 SPACEBOY NAPKINS</td>\n",
       "      <td>12</td>\n",
       "      <td>12/9/2011 12:50</td>\n",
       "      <td>0.85</td>\n",
       "      <td>12680.0</td>\n",
       "      <td>France</td>\n",
       "    </tr>\n",
       "    <tr>\n",
       "      <th>541905</th>\n",
       "      <td>581587</td>\n",
       "      <td>22899</td>\n",
       "      <td>CHILDREN'S APRON DOLLY GIRL</td>\n",
       "      <td>6</td>\n",
       "      <td>12/9/2011 12:50</td>\n",
       "      <td>2.10</td>\n",
       "      <td>12680.0</td>\n",
       "      <td>France</td>\n",
       "    </tr>\n",
       "    <tr>\n",
       "      <th>541906</th>\n",
       "      <td>581587</td>\n",
       "      <td>23254</td>\n",
       "      <td>CHILDRENS CUTLERY DOLLY GIRL</td>\n",
       "      <td>4</td>\n",
       "      <td>12/9/2011 12:50</td>\n",
       "      <td>4.15</td>\n",
       "      <td>12680.0</td>\n",
       "      <td>France</td>\n",
       "    </tr>\n",
       "    <tr>\n",
       "      <th>541907</th>\n",
       "      <td>581587</td>\n",
       "      <td>23255</td>\n",
       "      <td>CHILDRENS CUTLERY CIRCUS PARADE</td>\n",
       "      <td>4</td>\n",
       "      <td>12/9/2011 12:50</td>\n",
       "      <td>4.15</td>\n",
       "      <td>12680.0</td>\n",
       "      <td>France</td>\n",
       "    </tr>\n",
       "    <tr>\n",
       "      <th>541908</th>\n",
       "      <td>581587</td>\n",
       "      <td>22138</td>\n",
       "      <td>BAKING SET 9 PIECE RETROSPOT</td>\n",
       "      <td>3</td>\n",
       "      <td>12/9/2011 12:50</td>\n",
       "      <td>4.95</td>\n",
       "      <td>12680.0</td>\n",
       "      <td>France</td>\n",
       "    </tr>\n",
       "  </tbody>\n",
       "</table>\n",
       "</div>"
      ],
      "text/plain": [
       "       InvoiceNo StockCode                      Description  Quantity  \\\n",
       "541904    581587     22613      PACK OF 20 SPACEBOY NAPKINS        12   \n",
       "541905    581587     22899     CHILDREN'S APRON DOLLY GIRL          6   \n",
       "541906    581587     23254    CHILDRENS CUTLERY DOLLY GIRL          4   \n",
       "541907    581587     23255  CHILDRENS CUTLERY CIRCUS PARADE         4   \n",
       "541908    581587     22138    BAKING SET 9 PIECE RETROSPOT          3   \n",
       "\n",
       "            InvoiceDate  UnitPrice  CustomerID Country  \n",
       "541904  12/9/2011 12:50       0.85     12680.0  France  \n",
       "541905  12/9/2011 12:50       2.10     12680.0  France  \n",
       "541906  12/9/2011 12:50       4.15     12680.0  France  \n",
       "541907  12/9/2011 12:50       4.15     12680.0  France  \n",
       "541908  12/9/2011 12:50       4.95     12680.0  France  "
      ]
     },
     "execution_count": 65,
     "metadata": {},
     "output_type": "execute_result"
    }
   ],
   "source": [
    "# Load data\n",
    "data = pd.read_csv('../data/raw/data.csv', encoding='latin-1')\n",
    "data.tail()"
   ]
  },
  {
   "cell_type": "code",
   "execution_count": 9,
   "metadata": {},
   "outputs": [
    {
     "name": "stdout",
     "output_type": "stream",
     "text": [
      "<class 'pandas.core.frame.DataFrame'>\n",
      "RangeIndex: 541909 entries, 0 to 541908\n",
      "Data columns (total 8 columns):\n",
      " #   Column       Non-Null Count   Dtype  \n",
      "---  ------       --------------   -----  \n",
      " 0   InvoiceNo    541909 non-null  object \n",
      " 1   StockCode    541909 non-null  object \n",
      " 2   Description  540455 non-null  object \n",
      " 3   Quantity     541909 non-null  int64  \n",
      " 4   InvoiceDate  541909 non-null  object \n",
      " 5   UnitPrice    541909 non-null  float64\n",
      " 6   CustomerID   406829 non-null  float64\n",
      " 7   Country      541909 non-null  object \n",
      "dtypes: float64(2), int64(1), object(5)\n",
      "memory usage: 33.1+ MB\n"
     ]
    }
   ],
   "source": [
    "# Get basic information about our data\n",
    "data.info()"
   ]
  },
  {
   "cell_type": "markdown",
   "metadata": {},
   "source": [
    "The dataset contains 541,909 entries across 8 columns. Some values are missing, and a few columns have incorrect data types. For instance, 'InvoiceDate' should be a datetime, and 'CustomerID' should be an integer. Before proceeding, we will first correct these type errors."
   ]
  },
  {
   "cell_type": "code",
   "execution_count": 62,
   "metadata": {},
   "outputs": [],
   "source": [
    "# Correct data types\n",
    "data['InvoiceDate'] = pd.to_datetime(data['InvoiceDate'])\n",
    "data['CustomerID'] = data['CustomerID'].astype('Int64')"
   ]
  },
  {
   "cell_type": "code",
   "execution_count": 63,
   "metadata": {},
   "outputs": [
    {
     "data": {
      "text/plain": [
       "CustomerID     135080\n",
       "Description      1454\n",
       "StockCode           0\n",
       "InvoiceNo           0\n",
       "Quantity            0\n",
       "InvoiceDate         0\n",
       "UnitPrice           0\n",
       "Country             0\n",
       "dtype: int64"
      ]
     },
     "execution_count": 63,
     "metadata": {},
     "output_type": "execute_result"
    }
   ],
   "source": [
    "# Count number of missing values\n",
    "data.isna().sum().sort_values(ascending=False)"
   ]
  },
  {
   "cell_type": "markdown",
   "metadata": {},
   "source": [
    "We can see that only two columns have missing values. 'CustomerID' is the most affected, with 135,080 missing entries—around 25% of the dataset. 'Description' has 1,454 missing values, accounting for less than 1% of all entries."
   ]
  },
  {
   "cell_type": "code",
   "execution_count": 64,
   "metadata": {},
   "outputs": [
    {
     "name": "stdout",
     "output_type": "stream",
     "text": [
      "Number of duplicated rows: 10147\n"
     ]
    },
    {
     "data": {
      "text/html": [
       "<div>\n",
       "<style scoped>\n",
       "    .dataframe tbody tr th:only-of-type {\n",
       "        vertical-align: middle;\n",
       "    }\n",
       "\n",
       "    .dataframe tbody tr th {\n",
       "        vertical-align: top;\n",
       "    }\n",
       "\n",
       "    .dataframe thead th {\n",
       "        text-align: right;\n",
       "    }\n",
       "</style>\n",
       "<table border=\"1\" class=\"dataframe\">\n",
       "  <thead>\n",
       "    <tr style=\"text-align: right;\">\n",
       "      <th></th>\n",
       "      <th>InvoiceNo</th>\n",
       "      <th>StockCode</th>\n",
       "      <th>Description</th>\n",
       "      <th>Quantity</th>\n",
       "      <th>InvoiceDate</th>\n",
       "      <th>UnitPrice</th>\n",
       "      <th>CustomerID</th>\n",
       "      <th>Country</th>\n",
       "    </tr>\n",
       "  </thead>\n",
       "  <tbody>\n",
       "    <tr>\n",
       "      <th>411643</th>\n",
       "      <td>C572226</td>\n",
       "      <td>85066</td>\n",
       "      <td>CREAM SWEETHEART MINI CHEST</td>\n",
       "      <td>-1</td>\n",
       "      <td>2011-10-21 13:58:00</td>\n",
       "      <td>12.75</td>\n",
       "      <td>15321</td>\n",
       "      <td>United Kingdom</td>\n",
       "    </tr>\n",
       "    <tr>\n",
       "      <th>411644</th>\n",
       "      <td>C572226</td>\n",
       "      <td>85066</td>\n",
       "      <td>CREAM SWEETHEART MINI CHEST</td>\n",
       "      <td>-1</td>\n",
       "      <td>2011-10-21 13:58:00</td>\n",
       "      <td>12.75</td>\n",
       "      <td>15321</td>\n",
       "      <td>United Kingdom</td>\n",
       "    </tr>\n",
       "    <tr>\n",
       "      <th>436250</th>\n",
       "      <td>C574095</td>\n",
       "      <td>22326</td>\n",
       "      <td>ROUND SNACK BOXES SET OF4 WOODLAND</td>\n",
       "      <td>-1</td>\n",
       "      <td>2011-11-03 09:54:00</td>\n",
       "      <td>2.95</td>\n",
       "      <td>12674</td>\n",
       "      <td>France</td>\n",
       "    </tr>\n",
       "    <tr>\n",
       "      <th>436251</th>\n",
       "      <td>C574095</td>\n",
       "      <td>22326</td>\n",
       "      <td>ROUND SNACK BOXES SET OF4 WOODLAND</td>\n",
       "      <td>-1</td>\n",
       "      <td>2011-11-03 09:54:00</td>\n",
       "      <td>2.95</td>\n",
       "      <td>12674</td>\n",
       "      <td>France</td>\n",
       "    </tr>\n",
       "    <tr>\n",
       "      <th>440148</th>\n",
       "      <td>C574510</td>\n",
       "      <td>22360</td>\n",
       "      <td>GLASS JAR ENGLISH CONFECTIONERY</td>\n",
       "      <td>-1</td>\n",
       "      <td>2011-11-04 13:25:00</td>\n",
       "      <td>2.95</td>\n",
       "      <td>15110</td>\n",
       "      <td>United Kingdom</td>\n",
       "    </tr>\n",
       "    <tr>\n",
       "      <th>440149</th>\n",
       "      <td>C574510</td>\n",
       "      <td>22360</td>\n",
       "      <td>GLASS JAR ENGLISH CONFECTIONERY</td>\n",
       "      <td>-1</td>\n",
       "      <td>2011-11-04 13:25:00</td>\n",
       "      <td>2.95</td>\n",
       "      <td>15110</td>\n",
       "      <td>United Kingdom</td>\n",
       "    </tr>\n",
       "    <tr>\n",
       "      <th>461407</th>\n",
       "      <td>C575940</td>\n",
       "      <td>23309</td>\n",
       "      <td>SET OF 60 I LOVE LONDON CAKE CASES</td>\n",
       "      <td>-24</td>\n",
       "      <td>2011-11-13 11:38:00</td>\n",
       "      <td>0.55</td>\n",
       "      <td>17838</td>\n",
       "      <td>United Kingdom</td>\n",
       "    </tr>\n",
       "    <tr>\n",
       "      <th>461408</th>\n",
       "      <td>C575940</td>\n",
       "      <td>23309</td>\n",
       "      <td>SET OF 60 I LOVE LONDON CAKE CASES</td>\n",
       "      <td>-24</td>\n",
       "      <td>2011-11-13 11:38:00</td>\n",
       "      <td>0.55</td>\n",
       "      <td>17838</td>\n",
       "      <td>United Kingdom</td>\n",
       "    </tr>\n",
       "    <tr>\n",
       "      <th>529980</th>\n",
       "      <td>C580764</td>\n",
       "      <td>22667</td>\n",
       "      <td>RECIPE BOX RETROSPOT</td>\n",
       "      <td>-12</td>\n",
       "      <td>2011-12-06 10:38:00</td>\n",
       "      <td>2.95</td>\n",
       "      <td>14562</td>\n",
       "      <td>United Kingdom</td>\n",
       "    </tr>\n",
       "    <tr>\n",
       "      <th>529981</th>\n",
       "      <td>C580764</td>\n",
       "      <td>22667</td>\n",
       "      <td>RECIPE BOX RETROSPOT</td>\n",
       "      <td>-12</td>\n",
       "      <td>2011-12-06 10:38:00</td>\n",
       "      <td>2.95</td>\n",
       "      <td>14562</td>\n",
       "      <td>United Kingdom</td>\n",
       "    </tr>\n",
       "  </tbody>\n",
       "</table>\n",
       "</div>"
      ],
      "text/plain": [
       "       InvoiceNo StockCode                          Description  Quantity  \\\n",
       "411643   C572226     85066          CREAM SWEETHEART MINI CHEST        -1   \n",
       "411644   C572226     85066          CREAM SWEETHEART MINI CHEST        -1   \n",
       "436250   C574095     22326  ROUND SNACK BOXES SET OF4 WOODLAND         -1   \n",
       "436251   C574095     22326  ROUND SNACK BOXES SET OF4 WOODLAND         -1   \n",
       "440148   C574510     22360      GLASS JAR ENGLISH CONFECTIONERY        -1   \n",
       "440149   C574510     22360      GLASS JAR ENGLISH CONFECTIONERY        -1   \n",
       "461407   C575940     23309  SET OF 60 I LOVE LONDON CAKE CASES        -24   \n",
       "461408   C575940     23309  SET OF 60 I LOVE LONDON CAKE CASES        -24   \n",
       "529980   C580764     22667                RECIPE BOX RETROSPOT        -12   \n",
       "529981   C580764     22667                RECIPE BOX RETROSPOT        -12   \n",
       "\n",
       "               InvoiceDate  UnitPrice  CustomerID         Country  \n",
       "411643 2011-10-21 13:58:00      12.75       15321  United Kingdom  \n",
       "411644 2011-10-21 13:58:00      12.75       15321  United Kingdom  \n",
       "436250 2011-11-03 09:54:00       2.95       12674          France  \n",
       "436251 2011-11-03 09:54:00       2.95       12674          France  \n",
       "440148 2011-11-04 13:25:00       2.95       15110  United Kingdom  \n",
       "440149 2011-11-04 13:25:00       2.95       15110  United Kingdom  \n",
       "461407 2011-11-13 11:38:00       0.55       17838  United Kingdom  \n",
       "461408 2011-11-13 11:38:00       0.55       17838  United Kingdom  \n",
       "529980 2011-12-06 10:38:00       2.95       14562  United Kingdom  \n",
       "529981 2011-12-06 10:38:00       2.95       14562  United Kingdom  "
      ]
     },
     "execution_count": 64,
     "metadata": {},
     "output_type": "execute_result"
    }
   ],
   "source": [
    "# Check for duplicates\n",
    "print(f'Number of duplicated rows: {data.duplicated(keep=False).sum()}')\n",
    "data[data.duplicated(keep=False)].sort_values(by=['InvoiceNo', 'StockCode']).tail(10)"
   ]
  },
  {
   "cell_type": "markdown",
   "metadata": {},
   "source": [
    "We can observe that there are 10,147 duplicated rows in the dataset. Since this is a transaction dataset, duplicates are not expected. These entries may be dropped later."
   ]
  }
 ],
 "metadata": {
  "kernelspec": {
   "display_name": "Python 3",
   "language": "python",
   "name": "python3"
  },
  "language_info": {
   "codemirror_mode": {
    "name": "ipython",
    "version": 3
   },
   "file_extension": ".py",
   "mimetype": "text/x-python",
   "name": "python",
   "nbconvert_exporter": "python",
   "pygments_lexer": "ipython3",
   "version": "3.13.2"
  }
 },
 "nbformat": 4,
 "nbformat_minor": 2
}
