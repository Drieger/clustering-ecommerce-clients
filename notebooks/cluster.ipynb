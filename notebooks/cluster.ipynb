{
 "cells": [
  {
   "cell_type": "markdown",
   "metadata": {},
   "source": [
    "# Clustering e-commerce's clients"
   ]
  },
  {
   "cell_type": "markdown",
   "metadata": {},
   "source": [
    "## Business understanding"
   ]
  },
  {
   "cell_type": "markdown",
   "metadata": {},
   "source": [
    "You have been hired by an e-commerce company that is looking to better understand its customers' behavior in order to personalize its marketing campaigns. To achieve this, the company has provided a CSV database containing data on customers, products, and store transactions carried out between 2010 and 2011.\n",
    "\n",
    "Based on this data, you need to group customers into clusters according to their purchasing behavior. This will help identify patterns and common characteristics among customers, such as:\n",
    "\n",
    "- Customers who buy the same products;\n",
    "\n",
    "- Customers with the same purchase frequency;\n",
    "\n",
    "- Customers who spend more money on their purchases.\n",
    "\n",
    "Using these clusters, generate insights that will allow the company to better segment its customer base and personalize its marketing campaigns, directing promotions and offers to customers based on their purchasing behavior."
   ]
  },
  {
   "cell_type": "markdown",
   "metadata": {},
   "source": [
    "## Data understanding"
   ]
  },
  {
   "cell_type": "markdown",
   "metadata": {},
   "source": [
    "This is a transnational data set which contains all the transactions occurring between 01/12/2010 and 09/12/2011 for a UK-based and registered non-store online retail.The company mainly sells unique all-occasion gifts. Many customers of the company are wholesalers (https://www.kaggle.com/datasets/carrie1/ecommerce-data).\n",
    "\n",
    "The table below\tprovides a detailed description of each column.\n",
    "<table style='border: 1px solid; margin-left: 0'>\n",
    "    <thead>\n",
    "        <tr>\n",
    "            <th>Column</th>\n",
    "            <th>Description</th>\n",
    "            <th>Data Type</th>\n",
    "        </tr>\n",
    "    </thead>\n",
    "    <tbody>\n",
    "        <tr>\n",
    "            <td><strong>InvoiceNo</strong></td>\n",
    "            <td>Transaction ID</td>\n",
    "            <td>Int</td>\n",
    "        </tr>\n",
    "        <tr>\n",
    "            <td><strong>StockCode</strong></td>\n",
    "            <td>Product stock code</td>\n",
    "            <td>String</td>\n",
    "        </tr>\n",
    "        <tr>\n",
    "            <td><strong>Description</strong></td>\n",
    "            <td>Product description</td>\n",
    "            <td>String</td>\n",
    "        </tr>\n",
    "        <tr>\n",
    "            <td><strong>Quantity</strong></td>\n",
    "            <td>Number of products per transaction</td>\n",
    "            <td>Int</td>\n",
    "        </tr>\n",
    "        <tr>\n",
    "            <td><strong>InvoiceDate</strong></td>\n",
    "            <td>Transaction date</td>\n",
    "            <td>Datetime</td>\n",
    "        </tr>\n",
    "        <tr>\n",
    "            <td><strong>UnitPrice</strong></td>\n",
    "            <td>Unit price of the product</td>\n",
    "            <td>Float</td>\n",
    "        </tr>\n",
    "        <tr>\n",
    "            <td><strong>CustomerID</strong></td>\n",
    "            <td>Customer ID</td>\n",
    "            <td>Int</td>\n",
    "        </tr>\n",
    "        <tr>\n",
    "            <td><strong>Country</strong></td>\n",
    "            <td>Country of transaction origin</td>\n",
    "            <td>String</td>\n",
    "        </tr>\n",
    "    </tbody>\n",
    "</table>"
   ]
  },
  {
   "cell_type": "markdown",
   "metadata": {},
   "source": [
    "#### Setup"
   ]
  },
  {
   "cell_type": "code",
   "execution_count": 147,
   "metadata": {},
   "outputs": [],
   "source": [
    "import pandas as pd\n",
    "import matplotlib.pyplot as plt\n",
    "from sklearn.preprocessing import StandardScaler"
   ]
  },
  {
   "cell_type": "markdown",
   "metadata": {},
   "source": [
    "#### Descriptive analysis"
   ]
  },
  {
   "cell_type": "code",
   "execution_count": 148,
   "metadata": {},
   "outputs": [
    {
     "data": {
      "text/html": [
       "<div>\n",
       "<style scoped>\n",
       "    .dataframe tbody tr th:only-of-type {\n",
       "        vertical-align: middle;\n",
       "    }\n",
       "\n",
       "    .dataframe tbody tr th {\n",
       "        vertical-align: top;\n",
       "    }\n",
       "\n",
       "    .dataframe thead th {\n",
       "        text-align: right;\n",
       "    }\n",
       "</style>\n",
       "<table border=\"1\" class=\"dataframe\">\n",
       "  <thead>\n",
       "    <tr style=\"text-align: right;\">\n",
       "      <th></th>\n",
       "      <th>InvoiceNo</th>\n",
       "      <th>StockCode</th>\n",
       "      <th>Description</th>\n",
       "      <th>Quantity</th>\n",
       "      <th>InvoiceDate</th>\n",
       "      <th>UnitPrice</th>\n",
       "      <th>CustomerID</th>\n",
       "      <th>Country</th>\n",
       "    </tr>\n",
       "  </thead>\n",
       "  <tbody>\n",
       "    <tr>\n",
       "      <th>541904</th>\n",
       "      <td>581587</td>\n",
       "      <td>22613</td>\n",
       "      <td>PACK OF 20 SPACEBOY NAPKINS</td>\n",
       "      <td>12</td>\n",
       "      <td>12/9/2011 12:50</td>\n",
       "      <td>0.85</td>\n",
       "      <td>12680.0</td>\n",
       "      <td>France</td>\n",
       "    </tr>\n",
       "    <tr>\n",
       "      <th>541905</th>\n",
       "      <td>581587</td>\n",
       "      <td>22899</td>\n",
       "      <td>CHILDREN'S APRON DOLLY GIRL</td>\n",
       "      <td>6</td>\n",
       "      <td>12/9/2011 12:50</td>\n",
       "      <td>2.10</td>\n",
       "      <td>12680.0</td>\n",
       "      <td>France</td>\n",
       "    </tr>\n",
       "    <tr>\n",
       "      <th>541906</th>\n",
       "      <td>581587</td>\n",
       "      <td>23254</td>\n",
       "      <td>CHILDRENS CUTLERY DOLLY GIRL</td>\n",
       "      <td>4</td>\n",
       "      <td>12/9/2011 12:50</td>\n",
       "      <td>4.15</td>\n",
       "      <td>12680.0</td>\n",
       "      <td>France</td>\n",
       "    </tr>\n",
       "    <tr>\n",
       "      <th>541907</th>\n",
       "      <td>581587</td>\n",
       "      <td>23255</td>\n",
       "      <td>CHILDRENS CUTLERY CIRCUS PARADE</td>\n",
       "      <td>4</td>\n",
       "      <td>12/9/2011 12:50</td>\n",
       "      <td>4.15</td>\n",
       "      <td>12680.0</td>\n",
       "      <td>France</td>\n",
       "    </tr>\n",
       "    <tr>\n",
       "      <th>541908</th>\n",
       "      <td>581587</td>\n",
       "      <td>22138</td>\n",
       "      <td>BAKING SET 9 PIECE RETROSPOT</td>\n",
       "      <td>3</td>\n",
       "      <td>12/9/2011 12:50</td>\n",
       "      <td>4.95</td>\n",
       "      <td>12680.0</td>\n",
       "      <td>France</td>\n",
       "    </tr>\n",
       "  </tbody>\n",
       "</table>\n",
       "</div>"
      ],
      "text/plain": [
       "       InvoiceNo StockCode                      Description  Quantity  \\\n",
       "541904    581587     22613      PACK OF 20 SPACEBOY NAPKINS        12   \n",
       "541905    581587     22899     CHILDREN'S APRON DOLLY GIRL          6   \n",
       "541906    581587     23254    CHILDRENS CUTLERY DOLLY GIRL          4   \n",
       "541907    581587     23255  CHILDRENS CUTLERY CIRCUS PARADE         4   \n",
       "541908    581587     22138    BAKING SET 9 PIECE RETROSPOT          3   \n",
       "\n",
       "            InvoiceDate  UnitPrice  CustomerID Country  \n",
       "541904  12/9/2011 12:50       0.85     12680.0  France  \n",
       "541905  12/9/2011 12:50       2.10     12680.0  France  \n",
       "541906  12/9/2011 12:50       4.15     12680.0  France  \n",
       "541907  12/9/2011 12:50       4.15     12680.0  France  \n",
       "541908  12/9/2011 12:50       4.95     12680.0  France  "
      ]
     },
     "execution_count": 148,
     "metadata": {},
     "output_type": "execute_result"
    }
   ],
   "source": [
    "# Load data\n",
    "data = pd.read_csv('../data/raw/data.csv', encoding='latin-1')\n",
    "data.tail()"
   ]
  },
  {
   "cell_type": "code",
   "execution_count": 149,
   "metadata": {},
   "outputs": [
    {
     "name": "stdout",
     "output_type": "stream",
     "text": [
      "<class 'pandas.core.frame.DataFrame'>\n",
      "RangeIndex: 541909 entries, 0 to 541908\n",
      "Data columns (total 8 columns):\n",
      " #   Column       Non-Null Count   Dtype  \n",
      "---  ------       --------------   -----  \n",
      " 0   InvoiceNo    541909 non-null  object \n",
      " 1   StockCode    541909 non-null  object \n",
      " 2   Description  540455 non-null  object \n",
      " 3   Quantity     541909 non-null  int64  \n",
      " 4   InvoiceDate  541909 non-null  object \n",
      " 5   UnitPrice    541909 non-null  float64\n",
      " 6   CustomerID   406829 non-null  float64\n",
      " 7   Country      541909 non-null  object \n",
      "dtypes: float64(2), int64(1), object(5)\n",
      "memory usage: 33.1+ MB\n"
     ]
    }
   ],
   "source": [
    "# Get basic information about our data\n",
    "data.info()"
   ]
  },
  {
   "cell_type": "markdown",
   "metadata": {},
   "source": [
    "### Handle data types\n",
    "\n",
    "First we need to identify and correct any wrong data type on the data being analysed"
   ]
  },
  {
   "cell_type": "code",
   "execution_count": 151,
   "metadata": {},
   "outputs": [
    {
     "data": {
      "text/plain": [
       "InvoiceNo              object\n",
       "StockCode              object\n",
       "Description            object\n",
       "Quantity                int64\n",
       "InvoiceDate    datetime64[ns]\n",
       "UnitPrice             float64\n",
       "CustomerID             object\n",
       "Country                object\n",
       "dtype: object"
      ]
     },
     "execution_count": 151,
     "metadata": {},
     "output_type": "execute_result"
    }
   ],
   "source": [
    "# Invoice Date should be handled as a datetime\n",
    "# this will allow future timeseries analysis\n",
    "data['InvoiceDate'] = data.InvoiceDate.astype('datetime64[ns]')\n",
    "\n",
    "# CustomerID, despite being a number should be handled\n",
    "# as a string (object) as it does not represent a real\n",
    "# numeric value\n",
    "data['CustomerID'] = data.CustomerID.astype('object')\n",
    "\n",
    "# Check information\n",
    "data.dtypes"
   ]
  },
  {
   "cell_type": "markdown",
   "metadata": {},
   "source": [
    "#### Handle missing data\n",
    "\n",
    "Second let's check for any missing data, if necessary drop it or fill it with some value"
   ]
  },
  {
   "cell_type": "code",
   "execution_count": 170,
   "metadata": {},
   "outputs": [
    {
     "data": {
      "text/plain": [
       "InvoiceNo           0\n",
       "StockCode           0\n",
       "Description      1454\n",
       "Quantity            0\n",
       "InvoiceDate         0\n",
       "UnitPrice           0\n",
       "CustomerID     135080\n",
       "Country             0\n",
       "dtype: int64"
      ]
     },
     "execution_count": 170,
     "metadata": {},
     "output_type": "execute_result"
    }
   ],
   "source": [
    "# Check if there is any missing values on each column\n",
    "data.isna().sum()"
   ]
  },
  {
   "cell_type": "code",
   "execution_count": null,
   "metadata": {},
   "outputs": [
    {
     "data": {
      "text/plain": [
       "InvoiceNo           0\n",
       "StockCode           0\n",
       "Description       112\n",
       "Quantity            0\n",
       "InvoiceDate         0\n",
       "UnitPrice           0\n",
       "CustomerID     135080\n",
       "Country             0\n",
       "dtype: int64"
      ]
     },
     "execution_count": 207,
     "metadata": {},
     "output_type": "execute_result"
    }
   ],
   "source": [
    "# Check if any missing description has its values on another row\n",
    "# this is done by comparing StockCodes. Our assumption is that\n",
    "# the same StockCode should represent the same item\n",
    "missing_descriptions_stock_codes = data[data['Description'].isna()]['StockCode'].unique()\n",
    "\n",
    "# Find StockCodes with descriptions for values in\n",
    "# `missing_descriptions_stock_codes` and rename columns\n",
    "# we will use it to join with our original table\n",
    "missing_description_values = (\n",
    "\tdata[\n",
    "\t\t(data['StockCode'].isin(missing_descriptions_stock_codes)) &\n",
    "\t\t(~data['Description'].isna())\n",
    "\t][['StockCode', 'Description']]\n",
    "\t.drop_duplicates(subset='StockCode')\n",
    ")\n",
    "missing_description_values.rename(\n",
    "\t{'StockCode': 'new_StockCode', 'Description': 'new_Description'},\n",
    "\taxis='columns', inplace=True\n",
    ")\n",
    "\n",
    "# Join Tables and replace values\n",
    "merged_stock_code = data.merge(\n",
    "\tmissing_description_values,\n",
    "\tleft_on='StockCode',\n",
    "\tright_on='new_StockCode',\n",
    "\thow='left'\n",
    ")\n",
    "merged_stock_code['Description'] = merged_stock_code['Description'].fillna(merged_stock_code['new_Description'])\n",
    "\n",
    "# Check missing values\n",
    "data = merged_stock_code.copy().drop(['new_StockCode', 'new_Description'], axis='columns')\n",
    "data.isna().sum()"
   ]
  },
  {
   "cell_type": "markdown",
   "metadata": {},
   "source": [
    "Using this approach we were able to reduce the amount of missing value in description from 1454 to 112."
   ]
  },
  {
   "cell_type": "code",
   "execution_count": 221,
   "metadata": {},
   "outputs": [
    {
     "name": "stdout",
     "output_type": "stream",
     "text": [
      "Missing descriptions with `UnitPrice` > 0: 0\n",
      "Number of invoices that contains missing descriptions: 112\n",
      "Customers with missing description items: [nan]\n"
     ]
    }
   ],
   "source": [
    "# Check relevant unit prices\n",
    "print(f'Missing descriptions with `UnitPrice` > 0: {data[(data['Description'].isna()) & (data['UnitPrice'] > 0)].shape[0]}')\n",
    "\n",
    "# Check if there is more items in the same Invoice\n",
    "md_invoices = data[(data['Description'].isna())]['InvoiceNo'].unique()\n",
    "md_invoices_count = data[(data['InvoiceNo'].isin(md_invoices))]['InvoiceNo'].nunique()\n",
    "print(f'Number of invoices that contains missing descriptions: {md_invoices_count}')\n",
    "\n",
    "# Check which customers have items with missing descriptios\n",
    "print(f'Customers with missing description items: {data[(data['Description'].isna())]['CustomerID'].unique()}')\n"
   ]
  },
  {
   "cell_type": "markdown",
   "metadata": {},
   "source": [
    "We've decided do drop all remaining items with missing descriptions becaus\n",
    "- All items have unit price = 0\n",
    "- Those are the only items in the invoices they belong\n",
    "- All items have no informaion about the customer id\n",
    "- It represents only 0,02% of the dataset"
   ]
  },
  {
   "cell_type": "code",
   "execution_count": 225,
   "metadata": {},
   "outputs": [],
   "source": [
    "# Drop missing description items\n",
    "data = data.dropna(subset='Description')"
   ]
  },
  {
   "cell_type": "markdown",
   "metadata": {},
   "source": [
    "**Approach**\n",
    "\n",
    "- Types - Handle wrong datatypes (ok)\n",
    "- Missing values - Handle missing values\n",
    "- Duplicates - Drop duplicats\n",
    "- Errors - Handle wrong values "
   ]
  },
  {
   "cell_type": "markdown",
   "metadata": {},
   "source": []
  }
 ],
 "metadata": {
  "kernelspec": {
   "display_name": "cluster",
   "language": "python",
   "name": "python3"
  },
  "language_info": {
   "codemirror_mode": {
    "name": "ipython",
    "version": 3
   },
   "file_extension": ".py",
   "mimetype": "text/x-python",
   "name": "python",
   "nbconvert_exporter": "python",
   "pygments_lexer": "ipython3",
   "version": "3.13.2"
  }
 },
 "nbformat": 4,
 "nbformat_minor": 2
}
